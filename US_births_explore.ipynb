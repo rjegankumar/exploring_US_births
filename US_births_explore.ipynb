{
 "cells": [
  {
   "cell_type": "markdown",
   "metadata": {},
   "source": [
    "# Exploring US Births"
   ]
  },
  {
   "cell_type": "markdown",
   "metadata": {},
   "source": [
    "## Data Description\n",
    "\n",
    "U.S. births data for the years 1994 to 2003, as provided by the Centers for Disease Control and Prevention's National Center for Health Statistics, and the Social Security Administration.\n",
    "\n",
    "Header - Definition:\n",
    "* year - Year\n",
    "* month - Month\n",
    "* date_of_month - Day number of the month\n",
    "* day_of_week - Day of week, where 1 is Monday and 7 is Sunday\n",
    "* births - Number of births"
   ]
  },
  {
   "cell_type": "markdown",
   "metadata": {},
   "source": [
    "## Reading and Cleaning Data"
   ]
  },
  {
   "cell_type": "code",
   "execution_count": 13,
   "metadata": {
    "collapsed": false
   },
   "outputs": [
    {
     "data": {
      "text/plain": [
       "['year,month,date_of_month,day_of_week,births',\n",
       " '1994,1,1,6,8096',\n",
       " '1994,1,2,7,7772',\n",
       " '1994,1,3,1,10142',\n",
       " '1994,1,4,2,11248',\n",
       " '1994,1,5,3,11053',\n",
       " '1994,1,6,4,11406',\n",
       " '1994,1,7,5,11251',\n",
       " '1994,1,8,6,8653',\n",
       " '1994,1,9,7,7910']"
      ]
     },
     "execution_count": 13,
     "metadata": {},
     "output_type": "execute_result"
    }
   ],
   "source": [
    "births_content = open(\"US_births_1994-2003_CDC_NCHS.csv\",\"r\").read()\n",
    "births_split = births_content.split(\"\\n\")\n",
    "births_split[0:10]"
   ]
  },
  {
   "cell_type": "markdown",
   "metadata": {},
   "source": [
    "## Converting Data from String to Lists"
   ]
  },
  {
   "cell_type": "code",
   "execution_count": 14,
   "metadata": {
    "collapsed": false
   },
   "outputs": [
    {
     "data": {
      "text/plain": [
       "[[1994, 1, 1, 6, 8096],\n",
       " [1994, 1, 2, 7, 7772],\n",
       " [1994, 1, 3, 1, 10142],\n",
       " [1994, 1, 4, 2, 11248],\n",
       " [1994, 1, 5, 3, 11053],\n",
       " [1994, 1, 6, 4, 11406],\n",
       " [1994, 1, 7, 5, 11251],\n",
       " [1994, 1, 8, 6, 8653],\n",
       " [1994, 1, 9, 7, 7910]]"
      ]
     },
     "execution_count": 14,
     "metadata": {},
     "output_type": "execute_result"
    }
   ],
   "source": [
    "def read_csv(file):\n",
    "    file_content = open(file,\"r\").read()\n",
    "    string_list = file_content.split(\"\\n\")\n",
    "    string_list = string_list[1:]\n",
    "    final_list = []\n",
    "    for string in string_list:\n",
    "        int_fields = []\n",
    "        string_fields = string.split(\",\")\n",
    "        for e in string_fields:\n",
    "            int_fields.append(int(e))\n",
    "        final_list.append(int_fields)\n",
    "    return final_list\n",
    "\n",
    "cdc_list = read_csv(\"US_births_1994-2003_CDC_NCHS.csv\")\n",
    "cdc_list[0:9]"
   ]
  },
  {
   "cell_type": "markdown",
   "metadata": {},
   "source": [
    "# Birth counts by month"
   ]
  },
  {
   "cell_type": "code",
   "execution_count": 15,
   "metadata": {
    "collapsed": false
   },
   "outputs": [
    {
     "data": {
      "text/plain": [
       "{1: 3232517,\n",
       " 2: 3018140,\n",
       " 3: 3322069,\n",
       " 4: 3185314,\n",
       " 5: 3350907,\n",
       " 6: 3296530,\n",
       " 7: 3498783,\n",
       " 8: 3525858,\n",
       " 9: 3439698,\n",
       " 10: 3378814,\n",
       " 11: 3171647,\n",
       " 12: 3301860}"
      ]
     },
     "execution_count": 15,
     "metadata": {},
     "output_type": "execute_result"
    }
   ],
   "source": [
    "def month_births(births_list):\n",
    "    births_per_month = {}\n",
    "    for e in births_list:\n",
    "        births = e[4]\n",
    "        month = e[1]\n",
    "        if month in births_per_month:\n",
    "            births_per_month[month] = births_per_month[month] + births\n",
    "        else:\n",
    "            births_per_month[month] = births\n",
    "    return births_per_month\n",
    "\n",
    "cdc_month_births = month_births(cdc_list)\n",
    "cdc_month_births"
   ]
  },
  {
   "cell_type": "markdown",
   "metadata": {},
   "source": [
    "## Birth Counts by Day of Week"
   ]
  },
  {
   "cell_type": "code",
   "execution_count": 16,
   "metadata": {
    "collapsed": false
   },
   "outputs": [
    {
     "data": {
      "text/plain": [
       "{1: 5789166,\n",
       " 2: 6446196,\n",
       " 3: 6322855,\n",
       " 4: 6288429,\n",
       " 5: 6233657,\n",
       " 6: 4562111,\n",
       " 7: 4079723}"
      ]
     },
     "execution_count": 16,
     "metadata": {},
     "output_type": "execute_result"
    }
   ],
   "source": [
    "def dow_births(births_list):\n",
    "    births_dow = {}\n",
    "    for e in births_list:\n",
    "        births = e[4]\n",
    "        dow = e[3]\n",
    "        if dow in births_dow:\n",
    "            births_dow[dow] = births_dow[dow] + births\n",
    "        else:\n",
    "            births_dow[dow] = births\n",
    "    return births_dow\n",
    "\n",
    "cdc_dow_births = dow_births(cdc_list)\n",
    "cdc_dow_births"
   ]
  },
  {
   "cell_type": "markdown",
   "metadata": {},
   "source": [
    "## General Function to Count Births"
   ]
  },
  {
   "cell_type": "code",
   "execution_count": 17,
   "metadata": {
    "collapsed": false
   },
   "outputs": [
    {
     "data": {
      "text/plain": [
       "{1: 5789166,\n",
       " 2: 6446196,\n",
       " 3: 6322855,\n",
       " 4: 6288429,\n",
       " 5: 6233657,\n",
       " 6: 4562111,\n",
       " 7: 4079723}"
      ]
     },
     "execution_count": 17,
     "metadata": {},
     "output_type": "execute_result"
    }
   ],
   "source": [
    "def calc_counts(data, column):\n",
    "    dict_column = {}\n",
    "    for e in data:\n",
    "        count_val = e[4]\n",
    "        col_val = e[column-1]\n",
    "        if col_val in dict_column:\n",
    "            dict_column[col_val] = dict_column[col_val] + count_val\n",
    "        else:\n",
    "            dict_column[col_val] = count_val\n",
    "    return dict_column\n",
    "\n",
    "cdc_dow_births = calc_counts(cdc_list,4)\n",
    "cdc_dow_births"
   ]
  },
  {
   "cell_type": "code",
   "execution_count": 18,
   "metadata": {
    "collapsed": false,
    "scrolled": false
   },
   "outputs": [
    {
     "data": {
      "text/plain": [
       "{1: 1276557,\n",
       " 2: 1288739,\n",
       " 3: 1304499,\n",
       " 4: 1288154,\n",
       " 5: 1299953,\n",
       " 6: 1304474,\n",
       " 7: 1310459,\n",
       " 8: 1312297,\n",
       " 9: 1303292,\n",
       " 10: 1320764,\n",
       " 11: 1314361,\n",
       " 12: 1318437,\n",
       " 13: 1277684,\n",
       " 14: 1320153,\n",
       " 15: 1319171,\n",
       " 16: 1315192,\n",
       " 17: 1324953,\n",
       " 18: 1326855,\n",
       " 19: 1318727,\n",
       " 20: 1324821,\n",
       " 21: 1322897,\n",
       " 22: 1317381,\n",
       " 23: 1293290,\n",
       " 24: 1288083,\n",
       " 25: 1272116,\n",
       " 26: 1284796,\n",
       " 27: 1294395,\n",
       " 28: 1307685,\n",
       " 29: 1223161,\n",
       " 30: 1202095,\n",
       " 31: 746696}"
      ]
     },
     "execution_count": 18,
     "metadata": {},
     "output_type": "execute_result"
    }
   ],
   "source": [
    "cdc_dom_births = calc_counts(cdc_list,3)\n",
    "cdc_dom_births"
   ]
  },
  {
   "cell_type": "code",
   "execution_count": 19,
   "metadata": {
    "collapsed": false,
    "scrolled": true
   },
   "outputs": [
    {
     "data": {
      "text/plain": [
       "{1: 3232517,\n",
       " 2: 3018140,\n",
       " 3: 3322069,\n",
       " 4: 3185314,\n",
       " 5: 3350907,\n",
       " 6: 3296530,\n",
       " 7: 3498783,\n",
       " 8: 3525858,\n",
       " 9: 3439698,\n",
       " 10: 3378814,\n",
       " 11: 3171647,\n",
       " 12: 3301860}"
      ]
     },
     "execution_count": 19,
     "metadata": {},
     "output_type": "execute_result"
    }
   ],
   "source": [
    "cdc_month_births = calc_counts(cdc_list,2)\n",
    "cdc_month_births"
   ]
  },
  {
   "cell_type": "code",
   "execution_count": 20,
   "metadata": {
    "collapsed": false
   },
   "outputs": [
    {
     "data": {
      "text/plain": [
       "{1994: 3952767,\n",
       " 1995: 3899589,\n",
       " 1996: 3891494,\n",
       " 1997: 3880894,\n",
       " 1998: 3941553,\n",
       " 1999: 3959417,\n",
       " 2000: 4058814,\n",
       " 2001: 4025933,\n",
       " 2002: 4021726,\n",
       " 2003: 4089950}"
      ]
     },
     "execution_count": 20,
     "metadata": {},
     "output_type": "execute_result"
    }
   ],
   "source": [
    "cdc_year_births = calc_counts(cdc_list,1)\n",
    "cdc_year_births"
   ]
  },
  {
   "cell_type": "markdown",
   "metadata": {},
   "source": [
    "## Functions to return Min/ Max values in a dictionaty and to return year differences in between a range of years"
   ]
  },
  {
   "cell_type": "code",
   "execution_count": 21,
   "metadata": {
    "collapsed": false
   },
   "outputs": [
    {
     "data": {
      "text/plain": [
       "(3880894, 4089950)"
      ]
     },
     "execution_count": 21,
     "metadata": {},
     "output_type": "execute_result"
    }
   ],
   "source": [
    "def min_max_dict(dict_list):\n",
    "    max_dict = 0\n",
    "    for e in dict_list:\n",
    "        if dict_list[e] > max_dict:\n",
    "            max_dict = dict_list[e]\n",
    "    min_dict = max_dict\n",
    "    for e in dict_list:\n",
    "        if dict_list[e] < min_dict:\n",
    "            min_dict = dict_list[e]\n",
    "    return min_dict, max_dict\n",
    "\n",
    "def year_diff(same_col, same_val, year_from, year_to):\n",
    "    cdc_list = read_csv(\"US_births_1994-2003_CDC_NCHS.csv\")\n",
    "    cdc_year_births = calc_counts(cdc_list,1)\n",
    "    year_dict = {}\n",
    "    i = 1\n",
    "    for yr in cdc_year_births:\n",
    "        if yr >= year_from: \n",
    "            if yr <= year_to:\n",
    "                year_dict[i] = yr\n",
    "                i = i+1\n",
    "    year_diff = {}\n",
    "    j = 2\n",
    "    year_inb = year_from\n",
    "    for yr in cdc_year_births:\n",
    "        if yr >= year_from: \n",
    "            if yr < year_to:\n",
    "                year1 = []\n",
    "                year2 = []\n",
    "                for e in cdc_list:\n",
    "                    if e[0] == year_inb:\n",
    "                        year1.append(e)\n",
    "                    if e[0] == year_inb+1:\n",
    "                        year2.append(e)\n",
    "                yr1 = calc_counts(year1,same_col)\n",
    "                yr2 = calc_counts(year2,same_col)\n",
    "                yr_str = str(year_inb) + \"-\" + str(year_inb+1) \n",
    "                year_diff[yr_str] = yr1[same_val] - yr2[same_val]\n",
    "                year_inb = year_inb+1\n",
    "    return year_diff\n",
    "\n",
    "min_max_yr = min_max_dict(cdc_year_births)\n",
    "min_max_yr"
   ]
  },
  {
   "cell_type": "code",
   "execution_count": 22,
   "metadata": {
    "collapsed": false
   },
   "outputs": [
    {
     "data": {
      "text/plain": [
       "{'1994-1995': 4692,\n",
       " '1995-1996': 1730,\n",
       " '1996-1997': -2928,\n",
       " '1997-1998': -2129,\n",
       " '1998-1999': 158,\n",
       " '1999-2000': -10926,\n",
       " '2000-2001': -5090,\n",
       " '2001-2002': 4524,\n",
       " '2002-2003': 871}"
      ]
     },
     "execution_count": 22,
     "metadata": {},
     "output_type": "execute_result"
    }
   ],
   "source": [
    "month_year_diff = year_diff(2,1,1994,2003)\n",
    "month_year_diff"
   ]
  },
  {
   "cell_type": "markdown",
   "metadata": {},
   "source": [
    "## Combining the Births Data from CDC and SSA"
   ]
  },
  {
   "cell_type": "code",
   "execution_count": 23,
   "metadata": {
    "collapsed": false,
    "scrolled": true
   },
   "outputs": [
    {
     "data": {
      "text/plain": [
       "['year,month,date_of_month,day_of_week,births',\n",
       " '2000,1,1,6,9083',\n",
       " '2000,1,2,7,8006',\n",
       " '2000,1,3,1,11363',\n",
       " '2000,1,4,2,13032',\n",
       " '2000,1,5,3,12558',\n",
       " '2000,1,6,4,12466',\n",
       " '2000,1,7,5,12516',\n",
       " '2000,1,8,6,8934']"
      ]
     },
     "execution_count": 23,
     "metadata": {},
     "output_type": "execute_result"
    }
   ],
   "source": [
    "births_content = open(\"US_births_2000-2014_SSA.csv\",\"r\").read()\n",
    "births_split = births_content.split(\"\\n\")\n",
    "births_split[0:9]"
   ]
  },
  {
   "cell_type": "code",
   "execution_count": 24,
   "metadata": {
    "collapsed": false,
    "scrolled": true
   },
   "outputs": [
    {
     "data": {
      "text/plain": [
       "[[2000, 1, 1, 6, 9083],\n",
       " [2000, 1, 2, 7, 8006],\n",
       " [2000, 1, 3, 1, 11363],\n",
       " [2000, 1, 4, 2, 13032],\n",
       " [2000, 1, 5, 3, 12558],\n",
       " [2000, 1, 6, 4, 12466],\n",
       " [2000, 1, 7, 5, 12516],\n",
       " [2000, 1, 8, 6, 8934],\n",
       " [2000, 1, 9, 7, 7949]]"
      ]
     },
     "execution_count": 24,
     "metadata": {},
     "output_type": "execute_result"
    }
   ],
   "source": [
    "ssa_list = read_csv(\"US_births_2000-2014_SSA.csv\")\n",
    "ssa_list[0:9]"
   ]
  },
  {
   "cell_type": "code",
   "execution_count": 25,
   "metadata": {
    "collapsed": false
   },
   "outputs": [
    {
     "data": {
      "text/plain": [
       "{2000: 4149598,\n",
       " 2001: 4110963,\n",
       " 2002: 4099313,\n",
       " 2003: 4163060,\n",
       " 2004: 4186863,\n",
       " 2005: 4211941,\n",
       " 2006: 4335154,\n",
       " 2007: 4380784,\n",
       " 2008: 4310737,\n",
       " 2009: 4190991,\n",
       " 2010: 4055975,\n",
       " 2011: 4006908,\n",
       " 2012: 4000868,\n",
       " 2013: 3973337,\n",
       " 2014: 4010532}"
      ]
     },
     "execution_count": 25,
     "metadata": {},
     "output_type": "execute_result"
    }
   ],
   "source": [
    "ssa_year_births = calc_counts(ssa_list,1)\n",
    "ssa_year_births"
   ]
  },
  {
   "cell_type": "code",
   "execution_count": 26,
   "metadata": {
    "collapsed": false
   },
   "outputs": [
    {
     "data": {
      "text/plain": [
       "{1994: 3952767,\n",
       " 1995: 3899589,\n",
       " 1996: 3891494,\n",
       " 1997: 3880894,\n",
       " 1998: 3941553,\n",
       " 1999: 3959417,\n",
       " 2000: 4149598,\n",
       " 2001: 4110963,\n",
       " 2002: 4099313,\n",
       " 2003: 4163060,\n",
       " 2004: 4186863,\n",
       " 2005: 4211941,\n",
       " 2006: 4335154,\n",
       " 2007: 4380784,\n",
       " 2008: 4310737,\n",
       " 2009: 4190991,\n",
       " 2010: 4055975,\n",
       " 2011: 4006908,\n",
       " 2012: 4000868,\n",
       " 2013: 3973337,\n",
       " 2014: 4010532}"
      ]
     },
     "execution_count": 26,
     "metadata": {},
     "output_type": "execute_result"
    }
   ],
   "source": [
    "births_list = []\n",
    "for yr in cdc_year_births:\n",
    "    if yr >= 1994: \n",
    "        if yr < 2000:\n",
    "            for e in cdc_list:\n",
    "                if e[0] == yr:\n",
    "                    births_list.append(e)\n",
    "\n",
    "births_list.extend(ssa_list)\n",
    "year_births = calc_counts(births_list,1)\n",
    "year_births"
   ]
  }
 ],
 "metadata": {
  "anaconda-cloud": {},
  "kernelspec": {
   "display_name": "Python [default]",
   "language": "python",
   "name": "python3"
  },
  "language_info": {
   "codemirror_mode": {
    "name": "ipython",
    "version": 3
   },
   "file_extension": ".py",
   "mimetype": "text/x-python",
   "name": "python",
   "nbconvert_exporter": "python",
   "pygments_lexer": "ipython3",
   "version": "3.5.2"
  }
 },
 "nbformat": 4,
 "nbformat_minor": 1
}
